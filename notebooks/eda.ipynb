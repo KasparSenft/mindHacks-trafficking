{
 "cells": [
  {
   "cell_type": "code",
   "execution_count": null,
   "metadata": {},
   "outputs": [],
   "source": [
    "# import os\n",
    "# os.chdir(\"..\")\n",
    "# os.getcwd()"
   ]
  },
  {
   "cell_type": "code",
   "execution_count": null,
   "metadata": {},
   "outputs": [],
   "source": [
    "import sqlite3\n",
    "import pandas as pd\n",
    "import matplotlib.pyplot as plt"
   ]
  },
  {
   "cell_type": "code",
   "execution_count": 20,
   "metadata": {},
   "outputs": [
    {
     "data": {
      "text/plain": [
       "['Media',\n",
       " 'ProfileActivity',\n",
       " 'ActivityMedia',\n",
       " 'ProfileConnection',\n",
       " 'Profiles',\n",
       " 'Activity']"
      ]
     },
     "execution_count": 20,
     "metadata": {},
     "output_type": "execute_result"
    }
   ],
   "source": [
    "# Connect to the database\n",
    "conn = sqlite3.connect(\"database/social_network_anonymized.db\")\n",
    "\n",
    "# Get the table names\n",
    "query = \"SELECT name FROM sqlite_master WHERE type='table';\"\n",
    "tables = conn.execute(query).fetchall()\n",
    "\n",
    "[table[0] for table in tables]"
   ]
  },
  {
   "cell_type": "markdown",
   "metadata": {},
   "source": [
    "# Profiles Data\n"
   ]
  },
  {
   "cell_type": "code",
   "execution_count": null,
   "metadata": {},
   "outputs": [
    {
     "data": {
      "text/html": [
       "<div>\n",
       "<style scoped>\n",
       "    .dataframe tbody tr th:only-of-type {\n",
       "        vertical-align: middle;\n",
       "    }\n",
       "\n",
       "    .dataframe tbody tr th {\n",
       "        vertical-align: top;\n",
       "    }\n",
       "\n",
       "    .dataframe thead th {\n",
       "        text-align: right;\n",
       "    }\n",
       "</style>\n",
       "<table border=\"1\" class=\"dataframe\">\n",
       "  <thead>\n",
       "    <tr style=\"text-align: right;\">\n",
       "      <th></th>\n",
       "      <th>id</th>\n",
       "      <th>name</th>\n",
       "      <th>profile_type</th>\n",
       "      <th>platform</th>\n",
       "      <th>platform_id</th>\n",
       "      <th>profile_url</th>\n",
       "      <th>region</th>\n",
       "    </tr>\n",
       "  </thead>\n",
       "  <tbody>\n",
       "    <tr>\n",
       "      <th>0</th>\n",
       "      <td>1</td>\n",
       "      <td>Michael Smith</td>\n",
       "      <td>person</td>\n",
       "      <td></td>\n",
       "      <td>409657442074875</td>\n",
       "      <td>https://www.facebook.com/user_1</td>\n",
       "      <td>western</td>\n",
       "    </tr>\n",
       "    <tr>\n",
       "      <th>1</th>\n",
       "      <td>2</td>\n",
       "      <td>Thomas Garcia</td>\n",
       "      <td>person</td>\n",
       "      <td></td>\n",
       "      <td>929191280443881</td>\n",
       "      <td>https://www.facebook.com/user_2</td>\n",
       "      <td>western</td>\n",
       "    </tr>\n",
       "    <tr>\n",
       "      <th>2</th>\n",
       "      <td>3</td>\n",
       "      <td>Michael Williams</td>\n",
       "      <td>person</td>\n",
       "      <td></td>\n",
       "      <td>575043098952809</td>\n",
       "      <td>https://www.facebook.com/user_3</td>\n",
       "      <td>western</td>\n",
       "    </tr>\n",
       "    <tr>\n",
       "      <th>3</th>\n",
       "      <td>4</td>\n",
       "      <td>John Smith</td>\n",
       "      <td>person</td>\n",
       "      <td></td>\n",
       "      <td>40769548126554</td>\n",
       "      <td>https://www.facebook.com/user_4</td>\n",
       "      <td>western</td>\n",
       "    </tr>\n",
       "    <tr>\n",
       "      <th>4</th>\n",
       "      <td>5</td>\n",
       "      <td>Apichart Sukjai</td>\n",
       "      <td>person</td>\n",
       "      <td></td>\n",
       "      <td>129878378161732</td>\n",
       "      <td>https://www.facebook.com/user_5</td>\n",
       "      <td>thai</td>\n",
       "    </tr>\n",
       "    <tr>\n",
       "      <th>...</th>\n",
       "      <td>...</td>\n",
       "      <td>...</td>\n",
       "      <td>...</td>\n",
       "      <td>...</td>\n",
       "      <td>...</td>\n",
       "      <td>...</td>\n",
       "      <td>...</td>\n",
       "    </tr>\n",
       "    <tr>\n",
       "      <th>50950</th>\n",
       "      <td>50951</td>\n",
       "      <td>Zhang Jie 2</td>\n",
       "      <td>person</td>\n",
       "      <td>FACEBOOK</td>\n",
       "      <td></td>\n",
       "      <td></td>\n",
       "      <td>chinese</td>\n",
       "    </tr>\n",
       "    <tr>\n",
       "      <th>50951</th>\n",
       "      <td>50952</td>\n",
       "      <td>Park Ji-woo 1</td>\n",
       "      <td>person</td>\n",
       "      <td>FACEBOOK</td>\n",
       "      <td></td>\n",
       "      <td></td>\n",
       "      <td>korean</td>\n",
       "    </tr>\n",
       "    <tr>\n",
       "      <th>50952</th>\n",
       "      <td>50953</td>\n",
       "      <td>Kang Ji-woo 4</td>\n",
       "      <td>person</td>\n",
       "      <td>FACEBOOK</td>\n",
       "      <td></td>\n",
       "      <td></td>\n",
       "      <td>korean</td>\n",
       "    </tr>\n",
       "    <tr>\n",
       "      <th>50953</th>\n",
       "      <td>50954</td>\n",
       "      <td>Patricia Jones 61</td>\n",
       "      <td>person</td>\n",
       "      <td>FCAI_NER</td>\n",
       "      <td></td>\n",
       "      <td></td>\n",
       "      <td>western</td>\n",
       "    </tr>\n",
       "    <tr>\n",
       "      <th>50954</th>\n",
       "      <td>50955</td>\n",
       "      <td>Barbara Miller 69</td>\n",
       "      <td>person</td>\n",
       "      <td>FCAI_NER</td>\n",
       "      <td></td>\n",
       "      <td></td>\n",
       "      <td>western</td>\n",
       "    </tr>\n",
       "  </tbody>\n",
       "</table>\n",
       "<p>50955 rows × 7 columns</p>\n",
       "</div>"
      ],
      "text/plain": [
       "          id               name profile_type  platform      platform_id  \\\n",
       "0          1      Michael Smith       person            409657442074875   \n",
       "1          2      Thomas Garcia       person            929191280443881   \n",
       "2          3   Michael Williams       person            575043098952809   \n",
       "3          4         John Smith       person             40769548126554   \n",
       "4          5    Apichart Sukjai       person            129878378161732   \n",
       "...      ...                ...          ...       ...              ...   \n",
       "50950  50951        Zhang Jie 2       person  FACEBOOK                    \n",
       "50951  50952      Park Ji-woo 1       person  FACEBOOK                    \n",
       "50952  50953      Kang Ji-woo 4       person  FACEBOOK                    \n",
       "50953  50954  Patricia Jones 61       person  FCAI_NER                    \n",
       "50954  50955  Barbara Miller 69       person  FCAI_NER                    \n",
       "\n",
       "                           profile_url   region  \n",
       "0      https://www.facebook.com/user_1  western  \n",
       "1      https://www.facebook.com/user_2  western  \n",
       "2      https://www.facebook.com/user_3  western  \n",
       "3      https://www.facebook.com/user_4  western  \n",
       "4      https://www.facebook.com/user_5     thai  \n",
       "...                                ...      ...  \n",
       "50950                                   chinese  \n",
       "50951                                    korean  \n",
       "50952                                    korean  \n",
       "50953                                   western  \n",
       "50954                                   western  \n",
       "\n",
       "[50955 rows x 7 columns]"
      ]
     },
     "execution_count": 17,
     "metadata": {},
     "output_type": "execute_result"
    }
   ],
   "source": [
    "df_profiles = pd.read_sql_query(\"SELECT * FROM Profiles\", conn)\n",
    "df_profiles"
   ]
  },
  {
   "cell_type": "code",
   "execution_count": null,
   "metadata": {},
   "outputs": [
    {
     "data": {
      "image/png": "[encoded data removed]",
      "text/plain": [
       "<Figure size 640x480 with 1 Axes>"
      ]
     },
     "metadata": {},
     "output_type": "display_data"
    }
   ],
   "source": [
    "df_profiles['region'].value_counts(normalize=True).plot(kind='bar');"
   ]
  },
  {
   "cell_type": "code",
   "execution_count": 33,
   "metadata": {},
   "outputs": [
    {
     "data": {
      "image/png": "[encoded data removed]",
      "text/plain": [
       "<Figure size 640x480 with 1 Axes>"
      ]
     },
     "metadata": {},
     "output_type": "display_data"
    }
   ],
   "source": [
    "df_profiles['platform'].value_counts(normalize=True).plot(kind='bar');"
   ]
  },
  {
   "cell_type": "code",
   "execution_count": 36,
   "metadata": {},
   "outputs": [
    {
     "data": {
      "text/html": [
       "<div>\n",
       "<style scoped>\n",
       "    .dataframe tbody tr th:only-of-type {\n",
       "        vertical-align: middle;\n",
       "    }\n",
       "\n",
       "    .dataframe tbody tr th {\n",
       "        vertical-align: top;\n",
       "    }\n",
       "\n",
       "    .dataframe thead th {\n",
       "        text-align: right;\n",
       "    }\n",
       "</style>\n",
       "<table border=\"1\" class=\"dataframe\">\n",
       "  <thead>\n",
       "    <tr style=\"text-align: right;\">\n",
       "      <th></th>\n",
       "      <th>id</th>\n",
       "      <th>type</th>\n",
       "      <th>timestamp</th>\n",
       "      <th>content</th>\n",
       "      <th>description</th>\n",
       "      <th>platform</th>\n",
       "    </tr>\n",
       "  </thead>\n",
       "  <tbody>\n",
       "    <tr>\n",
       "      <th>0</th>\n",
       "      <td>1</td>\n",
       "      <td>updated-friends-list-on-facebook</td>\n",
       "      <td>1734533582000</td>\n",
       "      <td></td>\n",
       "      <td>Michael Taylor 53 connected with John Rodrigue...</td>\n",
       "      <td>facebook</td>\n",
       "    </tr>\n",
       "    <tr>\n",
       "      <th>1</th>\n",
       "      <td>2</td>\n",
       "      <td>updated-friends-list-on-facebook</td>\n",
       "      <td>1734533582000</td>\n",
       "      <td></td>\n",
       "      <td>Michael Taylor 53 connected with Robert Martin...</td>\n",
       "      <td>facebook</td>\n",
       "    </tr>\n",
       "    <tr>\n",
       "      <th>2</th>\n",
       "      <td>3</td>\n",
       "      <td>updated-friends-list-on-facebook</td>\n",
       "      <td>1734533582000</td>\n",
       "      <td></td>\n",
       "      <td>Michael Taylor 53 connected with Jessica Taylor 8</td>\n",
       "      <td>facebook</td>\n",
       "    </tr>\n",
       "  </tbody>\n",
       "</table>\n",
       "</div>"
      ],
      "text/plain": [
       "   id                              type      timestamp content  \\\n",
       "0   1  updated-friends-list-on-facebook  1734533582000           \n",
       "1   2  updated-friends-list-on-facebook  1734533582000           \n",
       "2   3  updated-friends-list-on-facebook  1734533582000           \n",
       "\n",
       "                                         description  platform  \n",
       "0  Michael Taylor 53 connected with John Rodrigue...  facebook  \n",
       "1  Michael Taylor 53 connected with Robert Martin...  facebook  \n",
       "2  Michael Taylor 53 connected with Jessica Taylor 8  facebook  "
      ]
     },
     "execution_count": 36,
     "metadata": {},
     "output_type": "execute_result"
    }
   ],
   "source": [
    "df_activity = pd.read_sql_query(\"SELECT * FROM Activity\", conn)\n",
    "df_activity.head(3)"
   ]
  },
  {
   "cell_type": "code",
   "execution_count": null,
   "metadata": {},
   "outputs": [],
   "source": [
    "['Media',\n",
    " 'ProfileActivity',\n",
    " 'ActivityMedia',\n",
    " 'ProfileConnection',\n",
    " 'Profiles',\n",
    " 'Activity']"
   ]
  },
  {
   "cell_type": "code",
   "execution_count": 37,
   "metadata": {},
   "outputs": [
    {
     "data": {
      "text/html": [
       "<div>\n",
       "<style scoped>\n",
       "    .dataframe tbody tr th:only-of-type {\n",
       "        vertical-align: middle;\n",
       "    }\n",
       "\n",
       "    .dataframe tbody tr th {\n",
       "        vertical-align: top;\n",
       "    }\n",
       "\n",
       "    .dataframe thead th {\n",
       "        text-align: right;\n",
       "    }\n",
       "</style>\n",
       "<table border=\"1\" class=\"dataframe\">\n",
       "  <thead>\n",
       "    <tr style=\"text-align: right;\">\n",
       "      <th></th>\n",
       "      <th>id</th>\n",
       "      <th>type</th>\n",
       "      <th>file_reference</th>\n",
       "      <th>original_url</th>\n",
       "    </tr>\n",
       "  </thead>\n",
       "  <tbody>\n",
       "    <tr>\n",
       "      <th>0</th>\n",
       "      <td>1</td>\n",
       "      <td>video</td>\n",
       "      <td>AQNhLYiprPOJNFJ041YNoyQGhPgkS90J_7oFT9sapSRBr9...</td>\n",
       "      <td></td>\n",
       "    </tr>\n",
       "    <tr>\n",
       "      <th>1</th>\n",
       "      <td>2</td>\n",
       "      <td>video</td>\n",
       "      <td>AQMN1fCY0O1Kdgjx594MJBjjHG5edezwuot9PcN5sPruVs...</td>\n",
       "      <td></td>\n",
       "    </tr>\n",
       "    <tr>\n",
       "      <th>2</th>\n",
       "      <td>3</td>\n",
       "      <td>image</td>\n",
       "      <td>481011641_1077605357746039_1863054230928833396...</td>\n",
       "      <td></td>\n",
       "    </tr>\n",
       "  </tbody>\n",
       "</table>\n",
       "</div>"
      ],
      "text/plain": [
       "   id   type                                     file_reference original_url\n",
       "0   1  video  AQNhLYiprPOJNFJ041YNoyQGhPgkS90J_7oFT9sapSRBr9...             \n",
       "1   2  video  AQMN1fCY0O1Kdgjx594MJBjjHG5edezwuot9PcN5sPruVs...             \n",
       "2   3  image  481011641_1077605357746039_1863054230928833396...             "
      ]
     },
     "execution_count": 37,
     "metadata": {},
     "output_type": "execute_result"
    }
   ],
   "source": [
    "df_media = pd.read_sql_query(\"SELECT * FROM Media\", conn)\n",
    "df_media.head(3)"
   ]
  },
  {
   "cell_type": "code",
   "execution_count": 38,
   "metadata": {},
   "outputs": [
    {
     "data": {
      "text/html": [
       "<div>\n",
       "<style scoped>\n",
       "    .dataframe tbody tr th:only-of-type {\n",
       "        vertical-align: middle;\n",
       "    }\n",
       "\n",
       "    .dataframe tbody tr th {\n",
       "        vertical-align: top;\n",
       "    }\n",
       "\n",
       "    .dataframe thead th {\n",
       "        text-align: right;\n",
       "    }\n",
       "</style>\n",
       "<table border=\"1\" class=\"dataframe\">\n",
       "  <thead>\n",
       "    <tr style=\"text-align: right;\">\n",
       "      <th></th>\n",
       "      <th>id</th>\n",
       "      <th>activity_id</th>\n",
       "      <th>media_id</th>\n",
       "      <th>relationship_type</th>\n",
       "    </tr>\n",
       "  </thead>\n",
       "  <tbody>\n",
       "    <tr>\n",
       "      <th>0</th>\n",
       "      <td>1</td>\n",
       "      <td>130597</td>\n",
       "      <td>1</td>\n",
       "      <td>attached</td>\n",
       "    </tr>\n",
       "    <tr>\n",
       "      <th>1</th>\n",
       "      <td>2</td>\n",
       "      <td>130598</td>\n",
       "      <td>2</td>\n",
       "      <td>attached</td>\n",
       "    </tr>\n",
       "    <tr>\n",
       "      <th>2</th>\n",
       "      <td>3</td>\n",
       "      <td>130599</td>\n",
       "      <td>3</td>\n",
       "      <td>attached</td>\n",
       "    </tr>\n",
       "  </tbody>\n",
       "</table>\n",
       "</div>"
      ],
      "text/plain": [
       "   id  activity_id  media_id relationship_type\n",
       "0   1       130597         1          attached\n",
       "1   2       130598         2          attached\n",
       "2   3       130599         3          attached"
      ]
     },
     "execution_count": 38,
     "metadata": {},
     "output_type": "execute_result"
    }
   ],
   "source": [
    "df_activity_media = pd.read_sql_query(\"SELECT * FROM ActivityMedia\", conn)\n",
    "df_activity_media.head(3)"
   ]
  },
  {
   "cell_type": "code",
   "execution_count": 39,
   "metadata": {},
   "outputs": [
    {
     "data": {
      "text/html": [
       "<div>\n",
       "<style scoped>\n",
       "    .dataframe tbody tr th:only-of-type {\n",
       "        vertical-align: middle;\n",
       "    }\n",
       "\n",
       "    .dataframe tbody tr th {\n",
       "        vertical-align: top;\n",
       "    }\n",
       "\n",
       "    .dataframe thead th {\n",
       "        text-align: right;\n",
       "    }\n",
       "</style>\n",
       "<table border=\"1\" class=\"dataframe\">\n",
       "  <thead>\n",
       "    <tr style=\"text-align: right;\">\n",
       "      <th></th>\n",
       "      <th>id</th>\n",
       "      <th>profile_id</th>\n",
       "      <th>activity_id</th>\n",
       "      <th>relationship_type</th>\n",
       "    </tr>\n",
       "  </thead>\n",
       "  <tbody>\n",
       "    <tr>\n",
       "      <th>0</th>\n",
       "      <td>1</td>\n",
       "      <td>27059</td>\n",
       "      <td>1</td>\n",
       "      <td>source</td>\n",
       "    </tr>\n",
       "    <tr>\n",
       "      <th>1</th>\n",
       "      <td>2</td>\n",
       "      <td>24703</td>\n",
       "      <td>1</td>\n",
       "      <td>target</td>\n",
       "    </tr>\n",
       "    <tr>\n",
       "      <th>2</th>\n",
       "      <td>3</td>\n",
       "      <td>27059</td>\n",
       "      <td>2</td>\n",
       "      <td>source</td>\n",
       "    </tr>\n",
       "  </tbody>\n",
       "</table>\n",
       "</div>"
      ],
      "text/plain": [
       "   id  profile_id  activity_id relationship_type\n",
       "0   1       27059            1            source\n",
       "1   2       24703            1            target\n",
       "2   3       27059            2            source"
      ]
     },
     "execution_count": 39,
     "metadata": {},
     "output_type": "execute_result"
    }
   ],
   "source": [
    "df_profile_activity = pd.read_sql_query(\"SELECT * FROM ProfileActivity\", conn)\n",
    "df_profile_activity.head(3)"
   ]
  },
  {
   "cell_type": "code",
   "execution_count": null,
   "metadata": {},
   "outputs": [
    {
     "data": {
      "text/html": [
       "<div>\n",
       "<style scoped>\n",
       "    .dataframe tbody tr th:only-of-type {\n",
       "        vertical-align: middle;\n",
       "    }\n",
       "\n",
       "    .dataframe tbody tr th {\n",
       "        vertical-align: top;\n",
       "    }\n",
       "\n",
       "    .dataframe thead th {\n",
       "        text-align: right;\n",
       "    }\n",
       "</style>\n",
       "<table border=\"1\" class=\"dataframe\">\n",
       "  <thead>\n",
       "    <tr style=\"text-align: right;\">\n",
       "      <th></th>\n",
       "      <th>id</th>\n",
       "      <th>source_id</th>\n",
       "      <th>target_id</th>\n",
       "      <th>connection_type</th>\n",
       "    </tr>\n",
       "  </thead>\n",
       "  <tbody>\n",
       "    <tr>\n",
       "      <th>0</th>\n",
       "      <td>1</td>\n",
       "      <td>27059</td>\n",
       "      <td>24703</td>\n",
       "      <td>ADDED_THEM_AS_A_FRIEND_ON_FACEBOOK</td>\n",
       "    </tr>\n",
       "    <tr>\n",
       "      <th>1</th>\n",
       "      <td>2</td>\n",
       "      <td>27059</td>\n",
       "      <td>36779</td>\n",
       "      <td>ADDED_THEM_AS_A_FRIEND_ON_FACEBOOK</td>\n",
       "    </tr>\n",
       "    <tr>\n",
       "      <th>2</th>\n",
       "      <td>3</td>\n",
       "      <td>27059</td>\n",
       "      <td>8299</td>\n",
       "      <td>ADDED_THEM_AS_A_FRIEND_ON_FACEBOOK</td>\n",
       "    </tr>\n",
       "  </tbody>\n",
       "</table>\n",
       "</div>"
      ],
      "text/plain": [
       "   id  source_id  target_id                     connection_type\n",
       "0   1      27059      24703  ADDED_THEM_AS_A_FRIEND_ON_FACEBOOK\n",
       "1   2      27059      36779  ADDED_THEM_AS_A_FRIEND_ON_FACEBOOK\n",
       "2   3      27059       8299  ADDED_THEM_AS_A_FRIEND_ON_FACEBOOK"
      ]
     },
     "execution_count": 40,
     "metadata": {},
     "output_type": "execute_result"
    }
   ],
   "source": [
    "df_profile_connection = pd.read_sql_query(\"SELECT * FROM ProfileConnection\", conn)\n",
    "df_profile_connection.head(3)"
   ]
  },
  {
   "cell_type": "code",
   "execution_count": null,
   "metadata": {},
   "outputs": [],
   "source": []
  }
 ],
 "metadata": {
  "kernelspec": {
   "display_name": "Hackathon env",
   "language": "python",
   "name": "hackathon-env"
  },
  "language_info": {
   "codemirror_mode": {
    "name": "ipython",
    "version": 3
   },
   "file_extension": ".py",
   "mimetype": "text/x-python",
   "name": "python",
   "nbconvert_exporter": "python",
   "pygments_lexer": "ipython3",
   "version": "3.12.9"
  }
 },
 "nbformat": 4,
 "nbformat_minor": 2
}
